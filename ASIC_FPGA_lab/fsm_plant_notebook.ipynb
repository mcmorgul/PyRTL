{
 "cells": [
  {
   "cell_type": "markdown",
   "metadata": {},
   "source": [
    "# Finite State Machine for Water and Temperature Automation of a Plant "
   ]
  },
  {
   "cell_type": "markdown",
   "metadata": {},
   "source": [
    "In our desgin we are using water (humidity) and temperature sensors. Output of water and temperature sensors are four and three bits. These output bits are inputs of circuit. Sensors take analog information and samples it to a digital signal. \n",
    "\n",
    "Sample coding for water and temperature sensors are:\n",
    "\n",
    "**Water (Humidity) Sensor Output Legend:**\n",
    "* 0%: 0(0000); 10%: 1(0001); 20%: 2(0010);30%: 3(0011); 40%: 4(0100); 50%: 5(0101); \n",
    "* 60%: 6(0110); 70%: 7(0111); 80%: 13(1101); 90%: 14(1110); 100%: 15(1111)\n",
    "\n",
    "**Temperature Sensor Output Legend (in Celsius):**\n",
    "* <17.5: 0(000); 20: 1(001);22.5: 2(010); 25: 3(011); 27.5: 4(100); 30: 5(101); 32.5: 6(110); 35: 7(111); \n",
    "\n",
    "We have four inputs called **start**, **reset**, **water**, and **temperature**\n",
    "\n",
    "* input **start** controls the POWER, either POWER is ON or OFF\n",
    "* input **reset**  puts the system into default state.\n",
    "* input **water** is the output of the humidity sensor \n",
    "* input **temperature** is the output of the the temperature sensor\n",
    "\n",
    "We have two outputs called **pump** and **ac**,\n",
    "\n",
    "* output **pump** (water pump): ON (1) or OFF (0)\n",
    "\n",
    "* output **ac** (Air Conditioning): A/C: Heating (11), Cooling (01) or OFF (00)\n",
    "\n",
    "We have seven states. For State machine diagram please visit: http://venividiwiki.ee.virginia.edu/mediawiki/index.php/Water_and_Temperature_Automation_of_a_Plant\n",
    "or http://venividiwiki.ee.virginia.edu/mediawiki/index.php/Water_and_Temperature_Automation_of_a_Plant_using_FPGA#Verification_in_Modelsim\n",
    "\n",
    "* **SO**: Power is OFF (both pump and ac are closed)\n",
    "* **S1**: Default state (**pump** is ON and **ac** is OFF)\n",
    "* **S2**: Default state (**ac** is OFF)\n",
    "* **S3**: Default state (**ac** is Heating)\n",
    "* **S4**: Default state (**ac** is Cooling)\n",
    "* **S5**: Default state (**pump** is ON)\n",
    "* **S6**: Default state (**pump** is OFF)\n",
    "\n",
    "Since **S2-S4** and **S5-S6** states are independent. We register two state variable **state_water** and **state_temperature**"
   ]
  },
  {
   "cell_type": "markdown",
   "metadata": {},
   "source": [
    "# Inport the pyrtl library"
   ]
  },
  {
   "cell_type": "code",
   "execution_count": null,
   "metadata": {},
   "outputs": [],
   "source": [
    "import pyrtl\n",
    "pyrtl.reset_working_block()"
   ]
  },
  {
   "cell_type": "markdown",
   "metadata": {},
   "source": [
    "## Define wires and registes\n",
    "**Input** and **Output** are special type of wire, for hardware match. We need to use **Register** for states to give the decision with \".next\""
   ]
  },
  {
   "cell_type": "code",
   "execution_count": null,
   "metadata": {},
   "outputs": [],
   "source": [
    "start = pyrtl.Input(1, 'start')\n",
    "reset = pyrtl.Input(1, 'reset')\n",
    "water = pyrtl.Input(4, 'water')\n",
    "temperature = pyrtl.Input(3, 'temperature')\n",
    "pump = pyrtl.Output(1, 'pump')\n",
    "ac = pyrtl.Output(2, 'ac')\n",
    "state_water = pyrtl.Register(3, 'state_water') #S0 S1 S5 S6\n",
    "state_temperature = pyrtl.Register(3, 'state_temperature') #S0 S1 S2 S3 S4"
   ]
  },
  {
   "cell_type": "markdown",
   "metadata": {},
   "source": [
    "First new step, let's **enumerate a set of constant to serve as our states**"
   ]
  },
  {
   "cell_type": "code",
   "execution_count": null,
   "metadata": {},
   "outputs": [],
   "source": [
    "S0, S1, S2, S3, S4, S5, S6 = [pyrtl.Const(x, bitwidth=3) for x in range(7)]"
   ]
  },
  {
   "cell_type": "markdown",
   "metadata": {},
   "source": [
    "## Create state transition and logic \n",
    "**PyRTL has a class \"ConditionalUpdate\"** to provide a predicated update to a registers, wires, and memories.\n",
    "It is same as \"if-else if-else\" conditional states."
   ]
  },
  {
   "cell_type": "code",
   "execution_count": null,
   "metadata": {},
   "outputs": [],
   "source": [
    "with pyrtl.conditional_assignment:\n",
    "    with start:  # power is ON\n",
    "        with reset:  # system in reset\n",
    "            state_water.next |= S1\n",
    "            state_temperature.next |= S1\n",
    "        with pyrtl.otherwise: # functioning\n",
    "            with (state_water == S0): # if previous state_water is power OFF\n",
    "                state_water.next |= S1\n",
    "                with (state_temperature == S0): \n",
    "                    state_temperature.next |= S1\n",
    "            with (state_water == S1):\n",
    "                state_water.next |= S5\n",
    "                with (state_temperature == S1):\n",
    "                    state_temperature.next |= S2\n",
    "            with state_water == S5: # pump ON\n",
    "                with water <= 14: # less than or equal to %90\n",
    "                    state_water.next |= S5\n",
    "                    with state_temperature == S2: #ac OFF\n",
    "                        with temperature < 2: # less than 22,5\n",
    "                            state_temperature.next |= S3\n",
    "                        with temperature > 5: # higher than 30\n",
    "                            state_temperature.next |= S4\n",
    "                        with pyrtl.otherwise: # between 22,5 and 30\n",
    "                            state_temperature.next |= S2\n",
    "                    with state_temperature == S3: # heat\n",
    "                        with temperature <= 5: # less than 30\n",
    "                            state_temperature.next |= S3\n",
    "                        with temperature > 5: # higher than 30\n",
    "                            state_temperature.next |= S2\n",
    "                    with state_temperature == S4: #cool\n",
    "                        with temperature <= 2: # less than 22.5\n",
    "                            state_temperature.next |= S2\n",
    "                        with temperature > 2: # higher than 22.5\n",
    "                            state_temperature.next |= S4\n",
    "                with water > 14: # higher than %90\n",
    "                    state_water.next |= S6\n",
    "                    with state_temperature == S2: #ac OFF\n",
    "                        with temperature < 2: # less than 22,5\n",
    "                            state_temperature.next |= S3\n",
    "                        with temperature > 5: # higher than 30\n",
    "                            state_temperature.next |= S4\n",
    "                        with pyrtl.otherwise: # between 22,5 and 30\n",
    "                            state_temperature.next |= S2\n",
    "                    with state_temperature == S3: # heat\n",
    "                        with temperature <= 5: # less than 30\n",
    "                            state_temperature.next |= S3\n",
    "                        with temperature > 5: # higher than 30\n",
    "                            state_temperature.next |= S2\n",
    "                    with state_temperature == S4: #cool\n",
    "                        with temperature <= 2: # less than 22.5\n",
    "                            state_temperature.next |= S2\n",
    "                        with temperature > 2: # higher than 22.5\n",
    "                            state_temperature.next |= S4\n",
    "            with state_water == S6: # pump OFF\n",
    "                with water <= 5: # less than or equal to %50\n",
    "                    state_water.next |= S5\n",
    "                    with state_temperature == S2: #ac OFF\n",
    "                        with (temperature <= 5) | (temperature >= 2 ): # between 22,5 and 30\n",
    "                            state_temperature.next |= S2\n",
    "                        with temperature < 2: # less than 22,5\n",
    "                            state_temperature.next |= S3\n",
    "                        with temperature > 5: # higher than 30\n",
    "                            state_temperature.next |= S4\n",
    "                    with state_temperature == S3: # heat\n",
    "                        with temperature <= 5: # less than 30\n",
    "                            state_temperature.next |= S3\n",
    "                        with temperature > 5: # higher than 30\n",
    "                            state_temperature.next |= S2\n",
    "                    with state_temperature == S4: #cool\n",
    "                        with temperature <= 2: # less than 22.5\n",
    "                            state_temperature.next |= S2\n",
    "                        with temperature > 2: # higher than 22.5\n",
    "                            state_temperature.next |= S4\n",
    "                with water > 5: # higher than %50\n",
    "                    state_water.next |= S6\n",
    "                    with state_temperature == S2: #ac OFF\n",
    "                        with (temperature <= 5) | (temperature >= 2 ): # between 22,5 and 30\n",
    "                            state_temperature.next |= S2\n",
    "                        with temperature < 2: # less than 22,5\n",
    "                            state_temperature.next |= S3\n",
    "                        with temperature > 5: # higher than 30\n",
    "                            state_temperature.next |= S4\n",
    "                    with state_temperature == S3: # heat\n",
    "                        with temperature <= 5: # less than 30\n",
    "                            state_temperature.next |= S3\n",
    "                        with temperature > 5: # higher than 30\n",
    "                            state_temperature.next |= S2\n",
    "                    with state_temperature == S4: #cool\n",
    "                        with temperature <= 2: # less than 22.5\n",
    "                            state_temperature.next |= S2\n",
    "                        with temperature > 2: # higher than 22.5\n",
    "                            state_temperature.next |= S4\n",
    "            with pyrtl.otherwise:  \n",
    "                state_water.next |= S1\n",
    "                state_temperature.next |= S1\n",
    "    with pyrtl.otherwise:\n",
    "        state_water.next |= S0 # power OFF\n",
    "        state_temperature.next |= S0"
   ]
  },
  {
   "cell_type": "markdown",
   "metadata": {},
   "source": [
    "**Stae Logic**"
   ]
  },
  {
   "cell_type": "code",
   "execution_count": null,
   "metadata": {},
   "outputs": [],
   "source": [
    "pump <<= (state_water == S1) | (state_water == S5) \n",
    "ac <<= 3*(state_temperature == S3) + (state_temperature == S4) # for S3 (heating): ac=11; for S4 (cooling): ac=01"
   ]
  },
  {
   "cell_type": "markdown",
   "metadata": {},
   "source": [
    "Now let's **print, build and test our state machine**."
   ]
  },
  {
   "cell_type": "code",
   "execution_count": null,
   "metadata": {},
   "outputs": [],
   "source": [
    "print('--- plant_FSM Implementation ---')\n",
    "print(pyrtl.working_block())\n",
    "print()\n",
    "\n",
    "sim_trace = pyrtl.SimulationTrace()\n",
    "sim = pyrtl.Simulation(tracer=sim_trace)"
   ]
  },
  {
   "cell_type": "markdown",
   "metadata": {},
   "source": [
    "## Simulate the FSM"
   ]
  },
  {
   "cell_type": "markdown",
   "metadata": {},
   "source": [
    "Rather than just give some random inputs, let's specify inputs to observe functionality. The sim.step method takes a dictionary mapping inputs to their values.  We could just specify the input set directly as a dictionary but it gets pretty ugly -- let's use some python to parse them up."
   ]
  },
  {
   "cell_type": "code",
   "execution_count": null,
   "metadata": {},
   "outputs": [],
   "source": [
    "sim_inputs = {\n",
    "    'start':   '11111111111111111111100',\n",
    "    'reset':   '01000000000000000000000',\n",
    "    'water':   ['0', '1', '2','3', '4', '5','6','7','7', '13','14','14','15','15','14','13','7','6','5','4','3','3','3'],\n",
    "    'temperature':   ['0', '1', '2','1', '2', '3','4','5','6', '6','6','5','4','4','3','3','4','5','6','1','1','1','1']\n",
    "    }"
   ]
  },
  {
   "cell_type": "code",
   "execution_count": null,
   "metadata": {},
   "outputs": [],
   "source": [
    "for cycle in range(len(sim_inputs['start'])):\n",
    "    sim.step({w: int(v[cycle]) for w, v in sim_inputs.items()})"
   ]
  },
  {
   "cell_type": "code",
   "execution_count": null,
   "metadata": {},
   "outputs": [],
   "source": [
    "print(\"--- Simulation Results ---\")\n",
    "sim_trace.render_trace(trace_list=['start', 'reset', 'water', 'pump', 'temperature','ac','state_water', 'state_temperature'])"
   ]
  },
  {
   "cell_type": "markdown",
   "metadata": {},
   "source": [
    "Also, to make our input/output easy to reason about we **specified an order to the traces**"
   ]
  },
  {
   "cell_type": "markdown",
   "metadata": {
    "collapsed": true
   },
   "source": [
    "## Create Verilog code"
   ]
  },
  {
   "cell_type": "code",
   "execution_count": null,
   "metadata": {},
   "outputs": [],
   "source": [
    "# Output to a Verilog file named 'fsm_plant.v'\n",
    "with open('fsm_plant.v', 'w') as v_file:\n",
    "   pyrtl.OutputToVerilog(v_file)\n",
    "\n",
    "# Output of TestBench to a Verilog file named 'fsm_plant_tb.v'\n",
    "with open('fsm_plant_tb.v', 'w') as tbfile:\n",
    "    pyrtl.output_verilog_testbench(dest_file=tbfile, simulation_trace=sim_trace)  \n",
    "\n",
    "# Optimized Verilog\n",
    "pyrtl.synthesize()\n",
    "pyrtl.optimize()\n",
    "\n",
    "# Optimized output to a Verilog file named 'fsm_plant_opt.v'\n",
    "with open('fsm_plant_opt.v', 'w') as vfile:\n",
    "    pyrtl.OutputToVerilog(vfile)"
   ]
  }
 ],
 "metadata": {
  "kernelspec": {
   "display_name": "Python 2",
   "language": "python",
   "name": "python2"
  },
  "language_info": {
   "codemirror_mode": {
    "name": "ipython",
    "version": 2
   },
   "file_extension": ".py",
   "mimetype": "text/x-python",
   "name": "python",
   "nbconvert_exporter": "python",
   "pygments_lexer": "ipython2",
   "version": "2.7.15"
  }
 },
 "nbformat": 4,
 "nbformat_minor": 2
}
